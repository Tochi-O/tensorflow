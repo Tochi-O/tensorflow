{
  "nbformat": 4,
  "nbformat_minor": 0,
  "metadata": {
    "colab": {
      "provenance": [],
      "collapsed_sections": []
    },
    "kernelspec": {
      "name": "python3",
      "display_name": "Python 3"
    },
    "language_info": {
      "name": "python"
    },
    "accelerator": "GPU"
  },
  "cells": [
    {
      "cell_type": "markdown",
      "metadata": {
        "id": "5Gz5xrh91Szt"
      },
      "source": [
        "# Transfer Learning with TensorFlow Part 1: Feature Extraction\n",
        "\n",
        "Transfer learning is leveraging a working model's existing architecture and learnded for our own problem.\n",
        "\n",
        "There are two main benefits:\n",
        "1. Can leverage an existing neural network architecture proven to work on problems similar to our owm.\n",
        "2. Can leverage a working neural network architecture which has already learned patterns on similar data to our own,\n",
        "then we can adapt those patterns to our own data"
      ]
    },
    {
      "cell_type": "code",
      "metadata": {
        "colab": {
          "base_uri": "https://localhost:8080/"
        },
        "id": "8_eteQNx5bSW",
        "outputId": "f43a2fa3-2e40-46dc-cbcc-c343d9edc735"
      },
      "source": [
        "#we using a gpu?\n",
        "!nvidia-smi"
      ],
      "execution_count": null,
      "outputs": [
        {
          "output_type": "stream",
          "name": "stdout",
          "text": [
            "Wed Oct 27 13:19:13 2021       \n",
            "+-----------------------------------------------------------------------------+\n",
            "| NVIDIA-SMI 470.74       Driver Version: 460.32.03    CUDA Version: 11.2     |\n",
            "|-------------------------------+----------------------+----------------------+\n",
            "| GPU  Name        Persistence-M| Bus-Id        Disp.A | Volatile Uncorr. ECC |\n",
            "| Fan  Temp  Perf  Pwr:Usage/Cap|         Memory-Usage | GPU-Util  Compute M. |\n",
            "|                               |                      |               MIG M. |\n",
            "|===============================+======================+======================|\n",
            "|   0  Tesla K80           Off  | 00000000:00:04.0 Off |                    0 |\n",
            "| N/A   35C    P8    27W / 149W |      0MiB / 11441MiB |      0%      Default |\n",
            "|                               |                      |                  N/A |\n",
            "+-------------------------------+----------------------+----------------------+\n",
            "                                                                               \n",
            "+-----------------------------------------------------------------------------+\n",
            "| Processes:                                                                  |\n",
            "|  GPU   GI   CI        PID   Type   Process name                  GPU Memory |\n",
            "|        ID   ID                                                   Usage      |\n",
            "|=============================================================================|\n",
            "|  No running processes found                                                 |\n",
            "+-----------------------------------------------------------------------------+\n"
          ]
        }
      ]
    },
    {
      "cell_type": "markdown",
      "metadata": {
        "id": "qPIEblmh58Nv"
      },
      "source": [
        "## Download and become one with the data"
      ]
    },
    {
      "cell_type": "code",
      "metadata": {
        "colab": {
          "base_uri": "https://localhost:8080/"
        },
        "id": "-nkWvIjJ6B9B",
        "outputId": "f48bfbd2-930d-49bc-83a1-4e42e82bcf7b"
      },
      "source": [
        "# Get data (10% of 10 food classes from Food101)\n",
        "import zipfile\n",
        "\n",
        "# Download the data\n",
        "!wget https://storage.googleapis.com/ztm_tf_course/food_vision/10_food_classes_10_percent.zip\n",
        "\n",
        "#Unzip the downloaded file\n",
        "zip_ref = zipfile.ZipFile(\"10_food_classes_10_percent.zip\")\n",
        "zip_ref.extractall()\n",
        "zip_ref.close()\n"
      ],
      "execution_count": null,
      "outputs": [
        {
          "output_type": "stream",
          "name": "stdout",
          "text": [
            "--2021-10-27 13:23:07--  https://storage.googleapis.com/ztm_tf_course/food_vision/10_food_classes_10_percent.zip\n",
            "Resolving storage.googleapis.com (storage.googleapis.com)... 108.177.112.128, 142.250.152.128, 172.217.212.128, ...\n",
            "Connecting to storage.googleapis.com (storage.googleapis.com)|108.177.112.128|:443... connected.\n",
            "HTTP request sent, awaiting response... 200 OK\n",
            "Length: 168546183 (161M) [application/zip]\n",
            "Saving to: ‘10_food_classes_10_percent.zip’\n",
            "\n",
            "10_food_classes_10_ 100%[===================>] 160.74M   150MB/s    in 1.1s    \n",
            "\n",
            "2021-10-27 13:23:08 (150 MB/s) - ‘10_food_classes_10_percent.zip’ saved [168546183/168546183]\n",
            "\n"
          ]
        }
      ]
    },
    {
      "cell_type": "code",
      "metadata": {
        "colab": {
          "base_uri": "https://localhost:8080/"
        },
        "id": "ypbJnrbM65NX",
        "outputId": "4c15c303-2456-4206-a7f0-4fe49badc36e"
      },
      "source": [
        "# How many images in each folder?\n",
        "import os\n",
        "\n",
        "#Walk through 10 percent data directory and list number of files\n",
        "for dirpath, dirnames, filenames in os.walk(\"10_food_classes_10_percent\"):\n",
        "  print(f\"There are {len(dirnames)}, directories and {len(filenames)} images in '{dirpath}'.\")"
      ],
      "execution_count": null,
      "outputs": [
        {
          "output_type": "stream",
          "name": "stdout",
          "text": [
            "There are 2, directories and 0 images in '10_food_classes_10_percent'.\n",
            "There are 10, directories and 0 images in '10_food_classes_10_percent/train'.\n",
            "There are 0, directories and 75 images in '10_food_classes_10_percent/train/hamburger'.\n",
            "There are 0, directories and 75 images in '10_food_classes_10_percent/train/sushi'.\n",
            "There are 0, directories and 75 images in '10_food_classes_10_percent/train/grilled_salmon'.\n",
            "There are 0, directories and 75 images in '10_food_classes_10_percent/train/steak'.\n",
            "There are 0, directories and 75 images in '10_food_classes_10_percent/train/ramen'.\n",
            "There are 0, directories and 75 images in '10_food_classes_10_percent/train/ice_cream'.\n",
            "There are 0, directories and 75 images in '10_food_classes_10_percent/train/chicken_curry'.\n",
            "There are 0, directories and 75 images in '10_food_classes_10_percent/train/pizza'.\n",
            "There are 0, directories and 75 images in '10_food_classes_10_percent/train/chicken_wings'.\n",
            "There are 0, directories and 75 images in '10_food_classes_10_percent/train/fried_rice'.\n",
            "There are 10, directories and 0 images in '10_food_classes_10_percent/test'.\n",
            "There are 0, directories and 250 images in '10_food_classes_10_percent/test/hamburger'.\n",
            "There are 0, directories and 250 images in '10_food_classes_10_percent/test/sushi'.\n",
            "There are 0, directories and 250 images in '10_food_classes_10_percent/test/grilled_salmon'.\n",
            "There are 0, directories and 250 images in '10_food_classes_10_percent/test/steak'.\n",
            "There are 0, directories and 250 images in '10_food_classes_10_percent/test/ramen'.\n",
            "There are 0, directories and 250 images in '10_food_classes_10_percent/test/ice_cream'.\n",
            "There are 0, directories and 250 images in '10_food_classes_10_percent/test/chicken_curry'.\n",
            "There are 0, directories and 250 images in '10_food_classes_10_percent/test/pizza'.\n",
            "There are 0, directories and 250 images in '10_food_classes_10_percent/test/chicken_wings'.\n",
            "There are 0, directories and 250 images in '10_food_classes_10_percent/test/fried_rice'.\n"
          ]
        }
      ]
    },
    {
      "cell_type": "markdown",
      "metadata": {
        "id": "42-KHwJs8PhZ"
      },
      "source": [
        "## Creating data loader (preparing the data)\n",
        "\n",
        "We'll use the `ImageDataGenerator` class to load in our images in batches."
      ]
    },
    {
      "cell_type": "code",
      "metadata": {
        "colab": {
          "base_uri": "https://localhost:8080/"
        },
        "id": "xR1XxAGt89Dh",
        "outputId": "4d9d8165-e862-4252-c6c9-d90f8f156658"
      },
      "source": [
        "# Setup data inputs\n",
        "from tensorflow.keras.preprocessing.image import ImageDataGenerator\n",
        "\n",
        "IMG_SHAPE = (224, 224)\n",
        "BATCH_SIZE = 32\n",
        "#EPOCHS =5\n",
        "\n",
        "train_dir = \"10_food_classes_10_percent/train/\"\n",
        "test_dir = \"10_food_classes_10_percent/test/\"\n",
        "\n",
        "train_datagen = ImageDataGenerator(rescale=1/255.)\n",
        "test_datagen = ImageDataGenerator(rescale=1/255.)\n",
        "\n",
        "print(\"Training images:\")\n",
        "train_data_10_percent  = train_datagen.flow_from_directory(\n",
        "    train_dir, target_size=IMG_SHAPE,batch_size=BATCH_SIZE,class_mode=\"categorical\"\n",
        ")\n",
        "\n",
        "print(\"Testing images:\")\n",
        "test_data  = test_datagen.flow_from_directory(\n",
        "    test_dir, target_size=IMG_SHAPE,batch_size=BATCH_SIZE,class_mode=\"categorical\"\n",
        ")\n",
        "\n",
        "\n"
      ],
      "execution_count": null,
      "outputs": [
        {
          "output_type": "stream",
          "name": "stdout",
          "text": [
            "Training images:\n",
            "Found 750 images belonging to 10 classes.\n",
            "Testing images:\n",
            "Found 2500 images belonging to 10 classes.\n"
          ]
        }
      ]
    },
    {
      "cell_type": "markdown",
      "metadata": {
        "id": "se33moTm-fkp"
      },
      "source": [
        "## Setting up callbacks (things to run whilst our model train)\n",
        "\n",
        "extra fucntionality you can add to your models to be performed during or after training. Some of the mose popular callbacks:\n",
        "\n",
        "* Tracking experiments with the TensorBoard callback\n",
        "* Model checkpoint with the ModelCheckpoint call back\n",
        "* Stopping a model from taining (before it trains to long and over fits) with early stopping callbacks\n"
      ]
    },
    {
      "cell_type": "code",
      "metadata": {
        "id": "WANX5jsb_HxG"
      },
      "source": [
        "# Create TensorBoard callback (functionized because we need to create a new one for each model)\n",
        "\n",
        "import datetime\n",
        "\n",
        "def create_tensorboard_callback(dir_name, experiment_name):\n",
        "   log_dir = dir_name + \"/\" + experiment_name + \"/\" + datetime.datetime.now().strftime(\"%Y%m%d-%H%M%S\")\n",
        "   tensorboard_callback = tf.keras.callbacks.TensorBoard(log_dir=log_dir)\n",
        "   print(f\"Saving TensorBoard log files to: {log_dir}\")\n",
        "   return tensorboard_callback\n",
        "   "
      ],
      "execution_count": null,
      "outputs": []
    },
    {
      "cell_type": "markdown",
      "metadata": {
        "id": "j9OsMRJDCZyU"
      },
      "source": [
        "## Creating models using TensorFlow Hub\n",
        "\n",
        "In the past we've used TensorFlow to create our own models layer by layer from scratch.\n",
        "\n",
        "now were going to do a simila process, except the majority of pur model's layers are going to come from TensorFLow Hub\n",
        "\n",
        "We can access pretrained models on: https://tfhub.dev/\n",
        "\n",
        "Browsing the TensorfLOW hUB PAGE AND sorting for image classification, we found the following feature vector model link:\n",
        "https://tfhub.dev/tensorflow/efficientnet/b0/feature-vector/1"
      ]
    },
    {
      "cell_type": "code",
      "metadata": {
        "id": "dKpN8lnxCgTs"
      },
      "source": [
        "# Lets compare the two models\n",
        "resnet_url = \"https://tfhub.dev/google/imagenet/resnet_v2_50/feature_vector/5\"\n",
        "\n",
        "efficient_url = \"https://tfhub.dev/tensorflow/efficientnet/b0/feature-vector/1\""
      ],
      "execution_count": null,
      "outputs": []
    },
    {
      "cell_type": "code",
      "metadata": {
        "id": "euznhDByIpal"
      },
      "source": [
        "# Import dependencies\n",
        "import tensorflow as tf\n",
        "import tensorflow_hub as hub\n",
        "from tensorflow.keras import layers"
      ],
      "execution_count": null,
      "outputs": []
    },
    {
      "cell_type": "code",
      "metadata": {
        "id": "V0tugXC9I08o"
      },
      "source": [
        "# Let's make a create_model() function to create a model from a URL\n",
        "def create_model(model_url, num_classes=10):\n",
        "  \"\"\"\n",
        "  Takes a TensorFlow Hub URL and creates a Keras Sequential model with it.\n",
        "\n",
        "  Args:\n",
        "  model_url (str): A tensorflow Hub deature extraction URL.\n",
        "  num_classes (int): Number of output neurons in the output layer,\n",
        "  should be equal to number of target classes, default 10.\n",
        "\n",
        "  Returns:\n",
        "   An uncompiled Keras Sequential model with model_url as feature extractor\n",
        "   layer and Dense output layer with num_classes output neurons.\n",
        " \"\"\"\n",
        " # Download the pretrained model and save it \n",
        "  feature_extraction_layer = hub.KerasLayer(model_url, \n",
        "                                    trainable=False, # freeze the already learnded patterns\n",
        "                                    name=\"feature_extraction_layer\",\n",
        "                                    input_shape=IMG_SHAPE+(3,)) \n",
        "  #create our own model\n",
        "  model = tf.keras.Sequential([\n",
        "    feature_extraction_layer,\n",
        "    layers.Dense(num_classes,activation=\"softmax\",name=\"output_layer\")\n",
        "  ])\n",
        "\n",
        "  return model\n",
        "\n"
      ],
      "execution_count": null,
      "outputs": []
    },
    {
      "cell_type": "markdown",
      "metadata": {
        "id": "UrnqQs3MKqSh"
      },
      "source": [
        "### Creating and testing ResNet Tensorflow Hub Feature Extraction model"
      ]
    },
    {
      "cell_type": "code",
      "metadata": {
        "id": "o0ENRAu3KmgC"
      },
      "source": [
        "# Create Resnet model\n",
        "resnet_model = create_model(resnet_url,\n",
        "                            num_classes=train_data_10_percent.num_classes)"
      ],
      "execution_count": null,
      "outputs": []
    },
    {
      "cell_type": "code",
      "metadata": {
        "id": "Difc1jlxLxbx"
      },
      "source": [
        "# Compile our resnet model\n",
        "resnet_model.compile(loss=\"categorical_crossentropy\",\n",
        "                     optimizer=tf.keras.optimizers.Adam(),\n",
        "                     metrics=[\"accuracy\"])"
      ],
      "execution_count": null,
      "outputs": []
    },
    {
      "cell_type": "code",
      "metadata": {
        "colab": {
          "base_uri": "https://localhost:8080/"
        },
        "id": "eNbMjnP-MECh",
        "outputId": "18fd283f-b5d2-46d7-bf84-23ae85eb0f5b"
      },
      "source": [
        "# Lets fit our resnet model to the data (10 percent of 10 classes)\n",
        "resnet_history = resnet_model.fit(train_data_10_percent,\n",
        "                                  epochs=5,\n",
        "                 steps_per_epoch=len(train_data_10_percent),\n",
        "                 validation_data=test_data,\n",
        "                 validation_steps = len(test_data),\n",
        "                 callbacks=[create_tensorboard_callback(dir_name=\"tensorflow_hub\",\n",
        "                                                        experiment_name=\"resnet50V4\")]\n",
        ")"
      ],
      "execution_count": null,
      "outputs": [
        {
          "output_type": "stream",
          "name": "stdout",
          "text": [
            "Saving TensorBoard log files to: tensorflow_hub/resnet50V4/20211027-144748\n",
            "Epoch 1/5\n",
            "24/24 [==============================] - 59s 1s/step - loss: 2.0298 - accuracy: 0.3520 - val_loss: 1.2271 - val_accuracy: 0.6112\n",
            "Epoch 2/5\n",
            "24/24 [==============================] - 26s 1s/step - loss: 0.9519 - accuracy: 0.7093 - val_loss: 0.8700 - val_accuracy: 0.7208\n",
            "Epoch 3/5\n",
            "24/24 [==============================] - 22s 922ms/step - loss: 0.6354 - accuracy: 0.8147 - val_loss: 0.7634 - val_accuracy: 0.7544\n",
            "Epoch 4/5\n",
            "24/24 [==============================] - 21s 927ms/step - loss: 0.4850 - accuracy: 0.8773 - val_loss: 0.7064 - val_accuracy: 0.7680\n",
            "Epoch 5/5\n",
            "24/24 [==============================] - 22s 930ms/step - loss: 0.3983 - accuracy: 0.9120 - val_loss: 0.6899 - val_accuracy: 0.7724\n"
          ]
        }
      ]
    },
    {
      "cell_type": "markdown",
      "metadata": {
        "id": "RZwo016_O6cA"
      },
      "source": [
        "Wow!\n",
        "\n",
        "That is Incredible Our transfer learning feature extractor\n",
        "model utperformed ALL of the previous models we built by hande (substantially)\n",
        "and in a quicker training time and with only 10 percent of the ttraining examples."
      ]
    },
    {
      "cell_type": "code",
      "metadata": {
        "id": "JeW_GCm2PlPV"
      },
      "source": [
        "#Lets create a function to plot our loss curves\n",
        "# tidbit: you could put a function like this into a script into a script called \"helper.py\" and import it when you need it\n",
        "#from helper import plot_loss_curves...\n",
        "\n",
        "import matplotlib.pyplot as plt\n",
        "\n",
        "#Plot the validation and training curves\n",
        "def plot_loss_curves(history):\n",
        "  \"\"\"\n",
        "  Returns separate loss curves for training and validation metrics.\n",
        "\n",
        "  Args:\n",
        "   history: TensorFlow History object.\n",
        "\n",
        "  Returns:\n",
        "   PLots of training/validation loss and accuracy metrics.\n",
        "  \"\"\"\n",
        "\n",
        "  loss = history.history[\"loss\"]\n",
        "  val_loss  = history.history[\"val_loss\"]\n",
        "\n",
        "  accuracy = history.history[\"accuracy\"]\n",
        "  val_accuracy = history.history[\"val_accuracy\"]\n",
        "\n",
        "  epochs = range(len(history.history[\"loss\"]))\n",
        "\n",
        "  #Plot loss\n",
        "  plt.figure()\n",
        "  plt.plot(epochs,loss,label=\"training_loss\")\n",
        "  plt.plot(epochs, val_loss, label=\"val_loss\")\n",
        "  plt.title(\"Loss\")\n",
        "  plt.xlabel(\"Epochs\")\n",
        "  plt.legend()\n",
        "  \n",
        "  #Plot accuracy\n",
        "  plt.figure()\n",
        "  plt.plot(epochs,accuracy,label=\"training_accuracy\")\n",
        "  plt.plot(epochs, val_accuracy, label=\"val_accuracy\")\n",
        "  plt.title(\"Accuracy\")\n",
        "  plt.xlabel(\"Epochs\")\n",
        "  plt.legend();\n",
        "\n",
        "\n",
        "\n",
        "   \n"
      ],
      "execution_count": null,
      "outputs": []
    },
    {
      "cell_type": "code",
      "metadata": {
        "colab": {
          "base_uri": "https://localhost:8080/",
          "height": 573
        },
        "id": "gcKIf_SKPrW0",
        "outputId": "018f5ec0-fdf2-48dc-9c7d-1fe7de9f49a7"
      },
      "source": [
        "plot_loss_curves(resnet_history)"
      ],
      "execution_count": null,
      "outputs": [
        {
          "output_type": "display_data",
          "data": {
            "image/png": "[encoded data removed]",
            "text/plain": [
              "<Figure size 432x288 with 1 Axes>"
            ]
          },
          "metadata": {
            "needs_background": "light"
          }
        },
        {
          "output_type": "display_data",
          "data": {
            "image/png": "[encoded data removed]",
            "text/plain": [
              "<Figure size 432x288 with 1 Axes>"
            ]
          },
          "metadata": {
            "needs_background": "light"
          }
        }
      ]
    },
    {
      "cell_type": "markdown",
      "metadata": {
        "id": "QSc36nDFS5NL"
      },
      "source": [
        "### Creating and testing EfficientNetB0 Tensorflow Hub Feature Extraction model"
      ]
    },
    {
      "cell_type": "code",
      "metadata": {
        "colab": {
          "base_uri": "https://localhost:8080/"
        },
        "id": "DD_Al0zIS8eH",
        "outputId": "4e12ea4f-9aec-4324-f5e3-9fe1adbc29ce"
      },
      "source": [
        "# Create EfficientNetB0 feature extractor model\n",
        "# details on efficient net https://ai.googleblog.com/2019/05/efficientnet-improving-accuracy-and.html\n",
        "\n",
        "efficientnet_model = create_model(\n",
        "    model_url=efficient_url,\n",
        "    num_classes=train_data_10_percent.num_classes\n",
        ")\n",
        "\n",
        "# Compile EfficientNet model\n",
        "efficientnet_model.compile(\n",
        "    loss=\"categorical_crossentropy\",\n",
        "    optimizer=tf.keras.optimizers.Adam(),\n",
        "    metrics=[\"accuracy\"]\n",
        ")\n",
        "\n",
        "EPOCHS=5\n",
        "\n",
        "#Fit effnet model to a 10% of training data\n",
        "efficient_history = efficientnet_model.fit(train_data_10_percent,\n",
        "                                        epochs=EPOCHS,steps_per_epoch=len(train_data_10_percent),\n",
        "                                        validation_data=test_data,\n",
        "                                        validation_steps=len(test_data),\n",
        "                                        callbacks=[create_tensorboard_callback(dir_name=\"tensorflow_hub\",experiment_name=\"efficientnetb0\")])\n"
      ],
      "execution_count": null,
      "outputs": [
        {
          "output_type": "stream",
          "name": "stdout",
          "text": [
            "Saving TensorBoard log files to: tensorflow_hub/efficientnetb0/20211027-152000\n",
            "Epoch 1/5\n",
            "24/24 [==============================] - 38s 1s/step - loss: 1.9005 - accuracy: 0.4427 - val_loss: 1.3343 - val_accuracy: 0.7300\n",
            "Epoch 2/5\n",
            "24/24 [==============================] - 20s 869ms/step - loss: 1.0935 - accuracy: 0.7693 - val_loss: 0.8829 - val_accuracy: 0.8168\n",
            "Epoch 3/5\n",
            "24/24 [==============================] - 20s 871ms/step - loss: 0.7687 - accuracy: 0.8333 - val_loss: 0.7039 - val_accuracy: 0.8412\n",
            "Epoch 4/5\n",
            "24/24 [==============================] - 20s 873ms/step - loss: 0.6137 - accuracy: 0.8667 - val_loss: 0.6155 - val_accuracy: 0.8552\n",
            "Epoch 5/5\n",
            "24/24 [==============================] - 20s 871ms/step - loss: 0.5170 - accuracy: 0.8853 - val_loss: 0.5566 - val_accuracy: 0.8648\n"
          ]
        }
      ]
    },
    {
      "cell_type": "code",
      "metadata": {
        "colab": {
          "base_uri": "https://localhost:8080/",
          "height": 573
        },
        "id": "PQKMB-dJW21J",
        "outputId": "764360a4-e780-41e8-d846-b534223c6428"
      },
      "source": [
        "plot_loss_curves(efficient_history)"
      ],
      "execution_count": null,
      "outputs": [
        {
          "output_type": "display_data",
          "data": {
            "image/png": "[encoded data removed]",
            "text/plain": [
              "<Figure size 432x288 with 1 Axes>"
            ]
          },
          "metadata": {
            "needs_background": "light"
          }
        },
        {
          "output_type": "display_data",
          "data": {
            "image/png": "[encoded data removed]",
            "text/plain": [
              "<Figure size 432x288 with 1 Axes>"
            ]
          },
          "metadata": {
            "needs_background": "light"
          }
        }
      ]
    },
    {
      "cell_type": "code",
      "metadata": {
        "colab": {
          "base_uri": "https://localhost:8080/"
        },
        "id": "NmsQYZ_eXMf3",
        "outputId": "7b5fe089-2db9-402f-dec1-8596aad5005f"
      },
      "source": [
        "efficientnet_model.summary()"
      ],
      "execution_count": null,
      "outputs": [
        {
          "output_type": "stream",
          "name": "stdout",
          "text": [
            "Model: \"sequential_2\"\n",
            "_________________________________________________________________\n",
            "Layer (type)                 Output Shape              Param #   \n",
            "=================================================================\n",
            "feature_extraction_layer (Ke (None, 1280)              4049564   \n",
            "_________________________________________________________________\n",
            "output_layer (Dense)         (None, 10)                12810     \n",
            "=================================================================\n",
            "Total params: 4,062,374\n",
            "Trainable params: 12,810\n",
            "Non-trainable params: 4,049,564\n",
            "_________________________________________________________________\n"
          ]
        }
      ]
    },
    {
      "cell_type": "code",
      "metadata": {
        "colab": {
          "base_uri": "https://localhost:8080/"
        },
        "id": "ugoAYHc7XcWO",
        "outputId": "46cc5555-2ff2-46f4-da7c-b1aad7e0e414"
      },
      "source": [
        "resnet_model.summary()"
      ],
      "execution_count": null,
      "outputs": [
        {
          "output_type": "stream",
          "name": "stdout",
          "text": [
            "Model: \"sequential\"\n",
            "_________________________________________________________________\n",
            "Layer (type)                 Output Shape              Param #   \n",
            "=================================================================\n",
            "feature_extraction_layer (Ke (None, 2048)              23564800  \n",
            "_________________________________________________________________\n",
            "output_layer (Dense)         (None, 10)                20490     \n",
            "=================================================================\n",
            "Total params: 23,585,290\n",
            "Trainable params: 20,490\n",
            "Non-trainable params: 23,564,800\n",
            "_________________________________________________________________\n"
          ]
        }
      ]
    },
    {
      "cell_type": "code",
      "metadata": {
        "colab": {
          "base_uri": "https://localhost:8080/"
        },
        "id": "gPLuA5-aZK05",
        "outputId": "3dd73d39-28e0-410c-8ed9-f3f29f0d8429"
      },
      "source": [
        "# How many layers does our efficientnetb0 feature extractor have?\n",
        "len(efficientnet_model.layers[0].weights)"
      ],
      "execution_count": null,
      "outputs": [
        {
          "output_type": "execute_result",
          "data": {
            "text/plain": [
              "309"
            ]
          },
          "metadata": {},
          "execution_count": 54
        }
      ]
    },
    {
      "cell_type": "markdown",
      "metadata": {
        "id": "g1YikCxPXl9y"
      },
      "source": [
        "## Different types of transfer learning\n",
        "\n",
        "* **`As is\" transfer learning`** - Using an existing model with no chnages whatsoever(eg using ImageNet model on 1000 ImageNet classes, none of your own)\n",
        "\n",
        "* **`Feature extraction`** transfer learning - use the prelearnded patterns of an existing model (e.g EfficientNetB0 trained on ImageNet) and adjust the output layer for\n",
        " your own problem (e.g 1000 classes -> 10 classes of food)\n",
        "\n",
        "* **`Fine-tuning`** transfer learning - use the prelearned patterns of an existing model and \"fine-tune\" many or all of the underlying layers (including new output layers)\n",
        "\n"
      ]
    },
    {
      "cell_type": "markdown",
      "metadata": {
        "id": "yx5UF6yvY35l"
      },
      "source": [
        "## Comparing our models results using TensorBoard\n",
        "\n",
        " **Note:** When you  upload things to tensorboard.dev, your experiments are public. So if youre running private exoeriments (that you don't want others to see) do not upload then to TensorBoard.dev."
      ]
    },
    {
      "cell_type": "code",
      "metadata": {
        "colab": {
          "base_uri": "https://localhost:8080/"
        },
        "id": "0CFt3GtXa0rS",
        "outputId": "e30a04a2-5bc5-4bb6-f438-0e330648fa25"
      },
      "source": [
        "#Upload Tensorboard dev records\n",
        "!tensorboard dev upload --logdir ./tensorflow_hub/ \\\n",
        "  --name \"EfficientNetB0 vs. ResNet50V2\" \\\n",
        "  --description \"Comparing two different TF Hub feature extraction model architectures using 10% of the training data\" \\\n",
        "  --one_shot\n"
      ],
      "execution_count": null,
      "outputs": [
        {
          "output_type": "stream",
          "name": "stdout",
          "text": [
            "2021-10-27 15:51:51.792812: I tensorflow/stream_executor/cuda/cuda_gpu_executor.cc:937] successful NUMA node read from SysFS had negative value (-1), but there must be at least one NUMA node, so returning NUMA node zero\n",
            "2021-10-27 15:51:51.953185: I tensorflow/stream_executor/cuda/cuda_gpu_executor.cc:937] successful NUMA node read from SysFS had negative value (-1), but there must be at least one NUMA node, so returning NUMA node zero\n",
            "2021-10-27 15:51:51.953654: I tensorflow/stream_executor/cuda/cuda_gpu_executor.cc:937] successful NUMA node read from SysFS had negative value (-1), but there must be at least one NUMA node, so returning NUMA node zero\n",
            "\n",
            "***** TensorBoard Uploader *****\n",
            "\n",
            "This will upload your TensorBoard logs to https://tensorboard.dev/ from\n",
            "the following directory:\n",
            "\n",
            "./tensorflow_hub/\n",
            "\n",
            "This TensorBoard will be visible to everyone. Do not upload sensitive\n",
            "data.\n",
            "\n",
            "Your use of this service is subject to Google's Terms of Service\n",
            "<https://policies.google.com/terms> and Privacy Policy\n",
            "<https://policies.google.com/privacy>, and TensorBoard.dev's Terms of Service\n",
            "<https://tensorboard.dev/policy/terms/>.\n",
            "\n",
            "This notice will not be shown again while you are logged into the uploader.\n",
            "To log out, run `tensorboard dev auth revoke`.\n",
            "\n",
            "Continue? (yes/NO) yes\n",
            "\n",
            "Please visit this URL to authorize this application: https://accounts.google.com/o/oauth2/auth?response_type=code&client_id=373649185512-8v619h5kft38l4456nm2dj4ubeqsrvh6.apps.googleusercontent.com&redirect_uri=urn%3Aietf%3Awg%3Aoauth%3A2.0%3Aoob&scope=openid+https%3A%2F%2Fwww.googleapis.com%2Fauth%2Fuserinfo.email&state=6i8wCTXtdZ4Xp8AzEQd4HLluAjujLi&prompt=consent&access_type=offline\n",
            "Enter the authorization code: 4/1AX4XfWj8-avjHBU2V3uuP9zJRwbv_36sZzaIYZ817niL823nf8Z_XQJ6R7I\n",
            "\n",
            "\n",
            "New experiment created. View your TensorBoard at: https://tensorboard.dev/experiment/LgONXZ7dR6KsD6edjg1ZpQ/\n",
            "\n",
            "\u001b[1m[2021-10-27T15:52:52]\u001b[0m Started scanning logdir.\n",
            "\u001b[1m[2021-10-27T15:52:54]\u001b[0m Total uploaded: 60 scalars, 0 tensors, 2 binary objects (5.7 MB)\n",
            "\u001b[1m[2021-10-27T15:52:54]\u001b[0m Done scanning logdir.\n",
            "\n",
            "\n",
            "Done. View your TensorBoard at https://tensorboard.dev/experiment/LgONXZ7dR6KsD6edjg1ZpQ/\n"
          ]
        }
      ]
    },
    {
      "cell_type": "markdown",
      "metadata": {
        "id": "yrSROl7ddM_E"
      },
      "source": [
        "Our TensorBoard experiments are uploaded publically here https://tensorboard.dev/experiment/LgONXZ7dR6KsD6edjg1ZpQ/"
      ]
    },
    {
      "cell_type": "code",
      "metadata": {
        "colab": {
          "base_uri": "https://localhost:8080/"
        },
        "id": "HoS9xLOxd4MX",
        "outputId": "11ab5217-e8bf-42b9-b71f-f6bd0a9b10a6"
      },
      "source": [
        "# Check out what TensorBoard experiments you have\n",
        "!tensorboard dev list"
      ],
      "execution_count": null,
      "outputs": [
        {
          "output_type": "stream",
          "name": "stdout",
          "text": [
            "2021-10-27 15:57:01.659839: I tensorflow/stream_executor/cuda/cuda_gpu_executor.cc:937] successful NUMA node read from SysFS had negative value (-1), but there must be at least one NUMA node, so returning NUMA node zero\n",
            "2021-10-27 15:57:01.668709: I tensorflow/stream_executor/cuda/cuda_gpu_executor.cc:937] successful NUMA node read from SysFS had negative value (-1), but there must be at least one NUMA node, so returning NUMA node zero\n",
            "2021-10-27 15:57:01.669263: I tensorflow/stream_executor/cuda/cuda_gpu_executor.cc:937] successful NUMA node read from SysFS had negative value (-1), but there must be at least one NUMA node, so returning NUMA node zero\n",
            "https://tensorboard.dev/experiment/LgONXZ7dR6KsD6edjg1ZpQ/\n",
            "\tName                 EfficientNetB0 vs. ResNet50V2\n",
            "\tDescription          Comparing two different TF Hub feature extraction model architectures using 10% of the training data\n",
            "\tId                   LgONXZ7dR6KsD6edjg1ZpQ\n",
            "\tCreated              2021-10-27 15:52:52 (4 minutes ago)\n",
            "\tUpdated              2021-10-27 15:52:54 (4 minutes ago)\n",
            "\tRuns                 4\n",
            "\tTags                 5\n",
            "\tScalars              60\n",
            "\tTensor bytes         0\n",
            "\tBinary object bytes  5965814\n",
            "Total: 1 experiment(s)\n"
          ]
        }
      ]
    },
    {
      "cell_type": "code",
      "metadata": {
        "id": "eluhao0HeLDb"
      },
      "source": [
        "#Delete an experiment\n",
        "# !tensorboard dev delete --experiment_id LgONXZ7dR6KsD6edjg1ZpQ"
      ],
      "execution_count": null,
      "outputs": []
    },
    {
      "cell_type": "code",
      "metadata": {
        "id": "wPq345fEeYXm"
      },
      "source": [
        "# Confirm the deletion by re-checking what experiments you have left\n",
        "#!tensorboard dev list"
      ],
      "execution_count": null,
      "outputs": []
    }
  ]
}